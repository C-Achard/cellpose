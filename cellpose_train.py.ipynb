{
 "cells": [
  {
   "cell_type": "code",
   "execution_count": 5,
   "metadata": {
    "collapsed": false,
    "jupyter": {
     "outputs_hidden": false
    }
   },
   "outputs": [
    {
     "name": "stdout",
     "output_type": "stream",
     "text": [
      "/home/cyril/Desktop/cellpose/somatomotor_stacks\n",
      "/home/cyril/Desktop/cellpose/visual_stacks\n"
     ]
    }
   ],
   "source": [
    "from pathlib import Path\n",
    "train_path = (Path().home() / \"Desktop/cellpose/somatomotor_stacks\").absolute()\n",
    "val_path = (Path().home() / \"Desktop/cellpose/visual_stacks\").absolute()\n",
    "print(train_path)\n",
    "print(val_path)"
   ]
  },
  {
   "cell_type": "code",
   "execution_count": null,
   "metadata": {
    "collapsed": false,
    "jupyter": {
     "outputs_hidden": false
    }
   },
   "outputs": [
    {
     "name": "stdout",
     "output_type": "stream",
     "text": [
      "2023-06-02 10:59:09,239 [INFO] WRITING LOG OUTPUT TO /home/cyril/.cellpose/run.log\n",
      "2023-06-02 10:59:09,239 [INFO] \n",
      "cellpose version: \t2.2.2 \n",
      "platform:       \tlinux \n",
      "python version: \t3.8.16 \n",
      "torch version:  \t2.0.1+cu117\n",
      "2023-06-02 10:59:10,165 [INFO] ** TORCH CUDA version installed and working. **\n",
      "2023-06-02 10:59:10,165 [INFO] >>>> using GPU\n",
      "2023-06-02 10:59:10,431 [INFO] 255 / 255 images in /home/cyril/Desktop/cellpose/somatomotor_stacks folder have labels\n",
      "2023-06-02 10:59:10,511 [INFO] 65 / 65 images in /home/cyril/Desktop/cellpose/visual_stacks folder have labels\n",
      "2023-06-02 10:59:10,511 [INFO] >>>> during training rescaling images to fixed diameter of 4.0 pixels\n",
      "2023-06-02 10:59:11,014 [INFO] flows precomputed\n",
      "2023-06-02 10:59:11,031 [INFO] flows precomputed\n",
      "2023-06-02 10:59:11,044 [WARNING] 19 train images with number of masks less than min_train_masks (5), removing from train set\n",
      "2023-06-02 10:59:11,121 [INFO] >>>> median diameter set to = 4\n",
      "2023-06-02 10:59:11,121 [INFO] >>>> mean of training label mask diameters (saved to model) 3.319\n",
      "2023-06-02 10:59:11,121 [INFO] >>>> training network with 2 channel input <<<<\n",
      "2023-06-02 10:59:11,121 [INFO] >>>> LR: 0.20000, batch_size: 8, weight_decay: 0.00001\n",
      "2023-06-02 10:59:11,121 [INFO] >>>> ntrain = 236, ntest = 65\n",
      "2023-06-02 10:59:11,121 [INFO] >>>> nimg_per_epoch = 236\n",
      "2023-06-02 10:59:17,243 [INFO] Epoch 0, Time  6.1s, Loss 0.7211, Loss Test 0.7202, LR 0.0000\n",
      "2023-06-02 10:59:21,164 [INFO] saving network parameters to /home/cyril/Desktop/cellpose/somatomotor_stacks/models/cellpose_residual_on_style_on_concatenation_off_somatomotor_stacks_2023_06_02_10_59_11.044448\n",
      "2023-06-02 10:59:37,339 [INFO] Epoch 5, Time 26.2s, Loss 0.0460, Loss Test 0.0191, LR 0.1111\n"
     ]
    }
   ],
   "source": [
    "!python -m cellpose --train --pretrained_model None --train_size --dir {str(train_path)} --test_dir {str(val_path)} --diam_mean=4 --verbose --use_gpu"
   ]
  },
  {
   "cell_type": "code",
   "execution_count": null,
   "metadata": {
    "collapsed": false,
    "jupyter": {
     "outputs_hidden": false
    }
   },
   "outputs": [],
   "source": []
  }
 ],
 "metadata": {
  "kernelspec": {
   "display_name": "Python 3 (ipykernel)",
   "language": "python",
   "name": "python3"
  },
  "language_info": {
   "codemirror_mode": {
    "name": "ipython",
    "version": 3
   },
   "file_extension": ".py",
   "mimetype": "text/x-python",
   "name": "python",
   "nbconvert_exporter": "python",
   "pygments_lexer": "ipython3",
   "version": "3.8.16"
  }
 },
 "nbformat": 4,
 "nbformat_minor": 4
}
