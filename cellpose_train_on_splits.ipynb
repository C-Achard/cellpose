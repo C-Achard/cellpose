{
 "cells": [
  {
   "cell_type": "code",
   "execution_count": 11,
   "id": "ea58309a-2e93-4ef5-8162-f71d848f4351",
   "metadata": {},
   "outputs": [],
   "source": [
    "from cellpose.models import CellposeModel\n",
    "from glob import glob\n",
    "from tifffile import imread"
   ]
  },
  {
   "cell_type": "code",
   "execution_count": 12,
   "id": "9bd0d8b3-749b-4b47-8bda-29f168d7d1cd",
   "metadata": {},
   "outputs": [],
   "source": [
    "import pathlib as pt\n",
    "path_images = pt.Path().home() / \"Desktop/Code/CELLSEG_BENCHMARK/TPH2_mesospim/TRAINING\"\n",
    "X_paths = sorted(glob(str(path_images / '*.tif')))\n",
    "Y_paths = sorted(glob(str(path_images / 'labels/*.tif')))\n",
    "X = list(map(imread,X_paths))\n",
    "Y = list(map(imread,Y_paths))\n",
    "\n",
    "VAL_PERCENT = 0.2"
   ]
  },
  {
   "cell_type": "code",
   "execution_count": 13,
   "id": "65110b0b-a661-4b0b-86cd-5c75d5f35160",
   "metadata": {},
   "outputs": [
    {
     "name": "stdout",
     "output_type": "stream",
     "text": [
      "number of images:   0\n",
      "- training:         0\n",
      "- validation:       0\n"
     ]
    }
   ],
   "source": [
    "ind = range(len(X))\n",
    "n_val = max(1, int(round(VAL_PERCENT * len(ind))))\n",
    "ind_train, ind_val = ind[:-n_val], ind[-n_val:]\n",
    "X_val, Y_val = [X[i] for i in ind_val]  , [Y[i] for i in ind_val]\n",
    "X_trn, Y_trn = [X[i] for i in ind_train], [Y[i] for i in ind_train] \n",
    "print('number of images: %3d' % len(X))\n",
    "print('- training:       %3d' % len(X_trn))\n",
    "print('- validation:     %3d' % len(X_val))\n",
    "\n",
    "X_trn_paths = [X_paths[i] for i in ind_train]\n",
    "X_val_paths = [X_paths[i] for i in ind_val]"
   ]
  },
  {
   "cell_type": "code",
   "execution_count": 14,
   "id": "2d9d0de2-734b-4a41-b625-4f69c3b40381",
   "metadata": {},
   "outputs": [],
   "source": [
    "model = CellposeModel(\n",
    "    gpu=True,\n",
    "    pretrained_model=False,\n",
    "    model_type=None,\n",
    "    diam_mean=3.3,   \n",
    ")"
   ]
  },
  {
   "cell_type": "code",
   "execution_count": null,
   "id": "ac299386-2683-40bb-947a-e9d380ab0363",
   "metadata": {},
   "outputs": [],
   "source": [
    "model.train(\n",
    "    train_data=X_trn,\n",
    "    train_labels=Y_trn,\n",
    "    train_files=X_trn_paths,\n",
    "    test_data=X_val,\n",
    "    test_labels=Y_val,\n",
    "    test_files=X_val_paths,\n",
    "    save_path=\"./splits/\",\n",
    "    save_every=50,\n",
    "    n_epochs=50,\n",
    "    model_name=,\n",
    ")"
   ]
  }
 ],
 "metadata": {
  "kernelspec": {
   "display_name": "Python 3 (ipykernel)",
   "language": "python",
   "name": "python3"
  },
  "language_info": {
   "codemirror_mode": {
    "name": "ipython",
    "version": 3
   },
   "file_extension": ".py",
   "mimetype": "text/x-python",
   "name": "python",
   "nbconvert_exporter": "python",
   "pygments_lexer": "ipython3",
   "version": "3.8.13"
  }
 },
 "nbformat": 4,
 "nbformat_minor": 5
}
